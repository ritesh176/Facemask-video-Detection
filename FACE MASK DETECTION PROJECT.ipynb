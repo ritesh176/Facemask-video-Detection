{
 "cells": [
  {
   "cell_type": "markdown",
   "id": "45508d42",
   "metadata": {},
   "source": [
    "# Facemask Detection"
   ]
  },
  {
   "cell_type": "code",
   "execution_count": 2,
   "id": "eea14eb5",
   "metadata": {},
   "outputs": [],
   "source": [
    "import cv2\n",
    "\n",
    "# Load the Haar cascade XML files for face and mask detection\n",
    "face_cascade = cv2.CascadeClassifier(r\"D:\\Data science\\Daily Pratice set\\may\\11 may\\haarcascade_frontalface_default.xml\")\n",
    "mask_cascade = cv2.CascadeClassifier(r\"D:\\Data science\\Daily Pratice set\\may\\12may\\Haarcascades\\haarcascade_mcs_mouth.xml\")\n",
    "\n",
    "# Start the video capture (you can also use a video file instead of the camera)\n",
    "cap = cv2.VideoCapture(r\"C:\\Users\\rites\\Downloads\\stock-footage-coronavirus-blonde-woman-sneezes-allergy-inside-public-tram-scared-people-passengers-immediately.webm\")\n",
    "\n",
    "while True:\n",
    "    # Read a frame from the video capture\n",
    "    ret, frame = cap.read()\n",
    "    \n",
    "    if not ret:\n",
    "        break\n",
    "    \n",
    "    # Convert the frame to grayscale for face detection\n",
    "    gray = cv2.cvtColor(frame, cv2.COLOR_BGR2GRAY)\n",
    "    \n",
    "    # Detect faces in the grayscale frame\n",
    "    faces = face_cascade.detectMultiScale(gray, scaleFactor=1.1, minNeighbors=5, minSize=(30, 30))\n",
    "    \n",
    "    for (x, y, w, h) in faces:\n",
    "        # Draw a rectangle around the detected face\n",
    "        cv2.rectangle(frame, (x, y), (x+w, y+h), (255, 0, 0), 2)\n",
    "        \n",
    "        # Extract the region of interest (ROI) within the face rectangle for mask detection\n",
    "        roi_gray = gray[y:y+h, x:x+w]\n",
    "        roi_color = frame[y:y+h, x:x+w]\n",
    "        \n",
    "        # Detect masks in the ROI\n",
    "        masks = mask_cascade.detectMultiScale(roi_gray, scaleFactor=1.1, minNeighbors=5, minSize=(30, 30))\n",
    "        \n",
    "        for (mx, my, mw, mh) in masks:\n",
    "            # Draw a rectangle around the detected mask\n",
    "            cv2.rectangle(roi_color, (mx, my), (mx+mw, my+mh), (255, 255, 0), 2)\n",
    "            cv2.putText(roi_color, 'Mask', (mx, my-10), cv2.FONT_HERSHEY_SIMPLEX, 0.9, (0, 255, 0), 2)\n",
    "        for (x, y, w, h) in masks:\n",
    "            cv2.rectangle(frame, (x, y), (x+w, y+h), (255, 0, 0), 2)\n",
    "            frame[y:y+h, x:x+w] = cv2.blur(frame[y:y+h, x:x+w], ksize=(10, 10))\n",
    "            cv2.putText(frame, text=\"Mask\", org=(x - 3, y - 3), fontFace=cv2.FONT_HERSHEY_COMPLEX, color=(0, 0, 255), thickness=1,fontScale=0.6)\n",
    "        \n",
    "        cv2.imshow('Face Mask Detection', frame)\n",
    "        \n",
    "    \n",
    "    # Display the frame with face and mask detection\n",
    "            \n",
    "    \n",
    "    \n",
    "       \n",
    "    \n",
    "    \n",
    "    # Exit the loop if 'q' is pressed\n",
    "    if cv2.waitKey(1) & 0xFF == ord('q'):\n",
    "        break\n",
    "\n",
    "# Release the video capture and close the OpenCV windows\n",
    "cap.release()\n",
    "cv2.destroyAllWindows()\n"
   ]
  },
  {
   "cell_type": "code",
   "execution_count": null,
   "id": "fb471ab4",
   "metadata": {},
   "outputs": [],
   "source": []
  }
 ],
 "metadata": {
  "kernelspec": {
   "display_name": "Python 3 (ipykernel)",
   "language": "python",
   "name": "python3"
  },
  "language_info": {
   "codemirror_mode": {
    "name": "ipython",
    "version": 3
   },
   "file_extension": ".py",
   "mimetype": "text/x-python",
   "name": "python",
   "nbconvert_exporter": "python",
   "pygments_lexer": "ipython3",
   "version": "3.9.16"
  }
 },
 "nbformat": 4,
 "nbformat_minor": 5
}
